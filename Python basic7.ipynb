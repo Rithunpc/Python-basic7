{
 "cells": [
  {
   "cell_type": "code",
   "execution_count": null,
   "id": "9b079cc7",
   "metadata": {},
   "outputs": [],
   "source": [
    "#we created a dictionary now, with key:name,email,phone number."
   ]
  },
  {
   "cell_type": "code",
   "execution_count": null,
   "id": "a8e5c4bb",
   "metadata": {},
   "outputs": [],
   "source": [
    "# and values Rithun .rithun@gamil.com,9074946193"
   ]
  },
  {
   "cell_type": "code",
   "execution_count": 3,
   "id": "3fc94cbb",
   "metadata": {},
   "outputs": [
    {
     "data": {
      "text/plain": [
       "{'Name': 'Rithun', 'Email': 'rithun@gamil.com', 'Phone number': '9074946193'}"
      ]
     },
     "execution_count": 3,
     "metadata": {},
     "output_type": "execute_result"
    }
   ],
   "source": [
    "dictl={\"Name\"  : \"Rithun\",\n",
    "       \"Email\" : \"rithun@gamil.com\",\n",
    "       \"Phone number\" : \"9074946193\"}\n",
    "dictl"
   ]
  },
  {
   "cell_type": "code",
   "execution_count": 4,
   "id": "efea88b3",
   "metadata": {},
   "outputs": [
    {
     "data": {
      "text/plain": [
       "'9074946193'"
      ]
     },
     "execution_count": 4,
     "metadata": {},
     "output_type": "execute_result"
    }
   ],
   "source": [
    "# now to separately call each key from the dictionary we can use the code.\n",
    "a=dictl['Phone number']\n",
    "a"
   ]
  },
  {
   "cell_type": "code",
   "execution_count": 5,
   "id": "a76473f4",
   "metadata": {},
   "outputs": [
    {
     "name": "stdout",
     "output_type": "stream",
     "text": [
      "{'Name': 'Catherine', 'Email': 'rithun@gamil.com', 'Phone number': '9074946193'}\n"
     ]
    }
   ],
   "source": [
    "# change value in the dictionary\n",
    "dictl[\"Name\"]=\"Catherine\"\n",
    "print(dictl) # doubt??"
   ]
  },
  {
   "cell_type": "code",
   "execution_count": 6,
   "id": "4ccf3dd5",
   "metadata": {},
   "outputs": [
    {
     "name": "stdout",
     "output_type": "stream",
     "text": [
      "{'Name': 'Catherine', 'Email': 'Oorjja@gmail.com', 'Phone number': '9074946193'}\n"
     ]
    }
   ],
   "source": [
    "dictl[\"Email\"]=\"Oorjja@gmail.com\"\n",
    "print(dictl)"
   ]
  },
  {
   "cell_type": "code",
   "execution_count": 7,
   "id": "5763e1bb",
   "metadata": {},
   "outputs": [
    {
     "name": "stdout",
     "output_type": "stream",
     "text": [
      "Name\n",
      "Email\n",
      "Phone number\n"
     ]
    }
   ],
   "source": [
    "#To get key wprds headings\n",
    "for x in dictl:\n",
    "    print(x)"
   ]
  },
  {
   "cell_type": "code",
   "execution_count": 8,
   "id": "ad7d944c",
   "metadata": {},
   "outputs": [
    {
     "name": "stdout",
     "output_type": "stream",
     "text": [
      "Catherine\n",
      "Oorjja@gmail.com\n",
      "9074946193\n"
     ]
    }
   ],
   "source": [
    "# To get value\n",
    "for x in dictl:\n",
    "    print(dictl[x])"
   ]
  },
  {
   "cell_type": "code",
   "execution_count": 11,
   "id": "ae3933a9",
   "metadata": {},
   "outputs": [
    {
     "ename": "AttributeError",
     "evalue": "'dict' object has no attribute 'item'",
     "output_type": "error",
     "traceback": [
      "\u001b[1;31m---------------------------------------------------------------------------\u001b[0m",
      "\u001b[1;31mAttributeError\u001b[0m                            Traceback (most recent call last)",
      "Cell \u001b[1;32mIn[11], line 2\u001b[0m\n\u001b[0;32m      1\u001b[0m \u001b[38;5;66;03m# To get both key and values\u001b[39;00m\n\u001b[1;32m----> 2\u001b[0m \u001b[38;5;28;01mfor\u001b[39;00m x,y,\u001b[38;5;129;01min\u001b[39;00m \u001b[43mdictl\u001b[49m\u001b[38;5;241;43m.\u001b[39;49m\u001b[43mitem\u001b[49m():\n\u001b[0;32m      3\u001b[0m     \u001b[38;5;28mprint\u001b[39m(x,y)\n",
      "\u001b[1;31mAttributeError\u001b[0m: 'dict' object has no attribute 'item'"
     ]
    }
   ],
   "source": [
    "# To get both key and values\n",
    "for x,y,in dictl.item():\n",
    "    print(x,y)"
   ]
  },
  {
   "cell_type": "code",
   "execution_count": 12,
   "id": "7379561b",
   "metadata": {},
   "outputs": [
    {
     "name": "stdout",
     "output_type": "stream",
     "text": [
      "3\n"
     ]
    }
   ],
   "source": [
    "# To get the length of dictionary\n",
    "print(len(dictl))"
   ]
  },
  {
   "cell_type": "code",
   "execution_count": 13,
   "id": "b05eb599",
   "metadata": {},
   "outputs": [
    {
     "ename": "IndentationError",
     "evalue": "unexpected indent (2204947729.py, line 2)",
     "output_type": "error",
     "traceback": [
      "\u001b[1;36m  Cell \u001b[1;32mIn[13], line 2\u001b[1;36m\u001b[0m\n\u001b[1;33m    dictl[\"Age\"]=20\u001b[0m\n\u001b[1;37m    ^\u001b[0m\n\u001b[1;31mIndentationError\u001b[0m\u001b[1;31m:\u001b[0m unexpected indent\n"
     ]
    }
   ],
   "source": [
    " # add some more key and value into dictionary\n",
    "    dictl[\"Age\"]=20\n",
    "    print(dictl)"
   ]
  },
  {
   "cell_type": "code",
   "execution_count": 14,
   "id": "6888cbe1",
   "metadata": {},
   "outputs": [
    {
     "name": "stdout",
     "output_type": "stream",
     "text": [
      "3\n"
     ]
    }
   ],
   "source": [
    "print(len(dictl))"
   ]
  },
  {
   "cell_type": "code",
   "execution_count": 15,
   "id": "022792db",
   "metadata": {},
   "outputs": [
    {
     "name": "stdout",
     "output_type": "stream",
     "text": [
      "{'Name': 'Catherine', 'Email': 'Oorjja@gmail.com', 'Phone number': '9074946193', 'Place': 'EKM'}\n"
     ]
    }
   ],
   "source": [
    "dictl[\"Place\"]=\"EKM\"\n",
    "print(dictl)"
   ]
  },
  {
   "cell_type": "code",
   "execution_count": 16,
   "id": "bde2ce84",
   "metadata": {},
   "outputs": [
    {
     "name": "stdout",
     "output_type": "stream",
     "text": [
      "4\n"
     ]
    }
   ],
   "source": [
    "print(len(dictl))"
   ]
  },
  {
   "cell_type": "code",
   "execution_count": 17,
   "id": "4b15b292",
   "metadata": {},
   "outputs": [
    {
     "data": {
      "text/plain": [
       "{'Name': 'Catherine', 'Phone number': '9074946193', 'Place': 'EKM'}"
      ]
     },
     "execution_count": 17,
     "metadata": {},
     "output_type": "execute_result"
    }
   ],
   "source": [
    "# to remove value\n",
    "dictl.pop(\"Email\")\n",
    "dictl"
   ]
  },
  {
   "cell_type": "code",
   "execution_count": 18,
   "id": "253e7798",
   "metadata": {},
   "outputs": [
    {
     "data": {
      "text/plain": [
       "{'Name': 'Catherine', 'Phone number': '9074946193'}"
      ]
     },
     "execution_count": 18,
     "metadata": {},
     "output_type": "execute_result"
    }
   ],
   "source": [
    "# to delet from dictionary\n",
    "del dictl[\"Place\"]\n",
    "dictl"
   ]
  },
  {
   "cell_type": "code",
   "execution_count": 19,
   "id": "910c78c7",
   "metadata": {},
   "outputs": [
    {
     "data": {
      "text/plain": [
       "{}"
      ]
     },
     "execution_count": 19,
     "metadata": {},
     "output_type": "execute_result"
    }
   ],
   "source": [
    "# to  clear all the values from dictionary\n",
    "dictl.clear()\n",
    "dictl"
   ]
  },
  {
   "cell_type": "code",
   "execution_count": null,
   "id": "0bff0f0d",
   "metadata": {},
   "outputs": [],
   "source": []
  }
 ],
 "metadata": {
  "kernelspec": {
   "display_name": "Python 3 (ipykernel)",
   "language": "python",
   "name": "python3"
  },
  "language_info": {
   "codemirror_mode": {
    "name": "ipython",
    "version": 3
   },
   "file_extension": ".py",
   "mimetype": "text/x-python",
   "name": "python",
   "nbconvert_exporter": "python",
   "pygments_lexer": "ipython3",
   "version": "3.10.9"
  }
 },
 "nbformat": 4,
 "nbformat_minor": 5
}
